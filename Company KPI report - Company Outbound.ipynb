{
 "cells": [
  {
   "cell_type": "raw",
   "id": "4463cdcd",
   "metadata": {},
   "source": [
    "from selenium import webdriver\n",
    "\n",
    "from selenium.webdriver.common.by import By\n",
    "from selenium.webdriver.support.ui import WebDriverWait\n",
    "from selenium.webdriver.support import expected_conditions as EC\n",
    "\n",
    "import time"
   ]
  },
  {
   "cell_type": "markdown",
   "id": "088efcdd",
   "metadata": {
    "scrolled": false
   },
   "source": [
    "### Login the reporting server to download the files. "
   ]
  },
  {
   "cell_type": "raw",
   "id": "c9c355cc",
   "metadata": {},
   "source": [
    "driver = webdriver.Chrome()\n",
    "driver.get('https://reporting-usdc.logistics.corp/')\n",
    "driver.maximize_window()\n",
    "\n",
    "time.sleep(3)\n",
    "\n",
    "username = WebDriverWait(driver, 10).until(EC.presence_of_element_located((By.ID, \"x-auto-1-input\"))).send_keys('*******')\n",
    "password = WebDriverWait(driver, 10).until(EC.presence_of_element_located((By.ID, \"x-auto-2-input\"))).send_keys('*******')\n",
    "\n",
    "\n",
    "## using different method to location the clickable \"name\" instead of ID. this website doesn't have \"ID\" \n",
    "## full class = \"EEGDEKC-i-d   EEGDEKC-i-o\", 但是好像只要一部分就行\n",
    "\n",
    "driver.find_element(By.CLASS_NAME, \"EEGDEKC-i-d\").click()\n",
    "\n",
    "time.sleep(3)"
   ]
  },
  {
   "cell_type": "raw",
   "id": "03dd2aee",
   "metadata": {},
   "source": [
    "driver.find_element(By.CLASS_NAME, \"fa-caret-down\").click()\n",
    "\n",
    "time.sleep(2)"
   ]
  },
  {
   "cell_type": "raw",
   "id": "33ccf551",
   "metadata": {},
   "source": [
    "# -> class =\"rs-lview-title\">Cybex - External</div>\n",
    "# -> By.XPATH, '//div[@class=\"rs-lview-title\"\n",
    "# -> and text()=\"Cybex - External\"\n",
    "WebDriverWait(driver, 10).until(EC.element_to_be_clickable((By.XPATH, '//div[@class=\"rs-lview-title\" and text()=\"Cybex - External\"]'))).click()\n"
   ]
  },
  {
   "cell_type": "markdown",
   "id": "04783798",
   "metadata": {},
   "source": [
    "### From here, we go by mannually to downloads these reports, becasue this servce doesn't allow to look inspects.  (▰˘︹˘ ▰)"
   ]
  },
  {
   "cell_type": "markdown",
   "id": "311645a5",
   "metadata": {},
   "source": [
    "### Read all the 4 reports by using partial names"
   ]
  },
  {
   "cell_type": "code",
   "execution_count": 1,
   "id": "eedb55ee",
   "metadata": {},
   "outputs": [],
   "source": [
    "import glob\n",
    "\n",
    "import pandas as pd\n",
    "import numpy as np\n",
    "import csv\n",
    "from datetime import datetime\n",
    "\n",
    "#Now reading partial names as list and loading them as one one. \n",
    "\n",
    "partial_names = [\"Cybex General Open Orders (Routing Tool)\", \n",
    "                 \"Shipping Totals by Order Line\",\n",
    "                 \"From Dock to Stock Report\", \n",
    "                 \"Inventory Cycle Counts\"]\n",
    "files = []\n",
    "#collect it to the list... \n",
    "\n",
    "for name in partial_names:\n",
    "    files.extend(glob.glob(r\"C:\\Users\\liuchen\\Downloads\\*{}*\".format(name)))\n",
    "    \n",
    "#all good part, don't do anything!!"
   ]
  },
  {
   "cell_type": "code",
   "execution_count": 2,
   "id": "ee345852",
   "metadata": {
    "scrolled": true
   },
   "outputs": [
    {
     "name": "stderr",
     "output_type": "stream",
     "text": [
      "C:\\Users\\liuchen\\Anaconda3\\lib\\site-packages\\openpyxl\\styles\\stylesheet.py:226: UserWarning: Workbook contains no default style, apply openpyxl's default\n",
      "  warn(\"Workbook contains no default style, apply openpyxl's default\")\n",
      "C:\\Users\\liuchen\\Anaconda3\\lib\\site-packages\\openpyxl\\styles\\stylesheet.py:226: UserWarning: Workbook contains no default style, apply openpyxl's default\n",
      "  warn(\"Workbook contains no default style, apply openpyxl's default\")\n",
      "C:\\Users\\liuchen\\Anaconda3\\lib\\site-packages\\openpyxl\\styles\\stylesheet.py:226: UserWarning: Workbook contains no default style, apply openpyxl's default\n",
      "  warn(\"Workbook contains no default style, apply openpyxl's default\")\n",
      "C:\\Users\\liuchen\\Anaconda3\\lib\\site-packages\\openpyxl\\styles\\stylesheet.py:226: UserWarning: Workbook contains no default style, apply openpyxl's default\n",
      "  warn(\"Workbook contains no default style, apply openpyxl's default\")\n"
     ]
    }
   ],
   "source": [
    "#read all the files as dataframe!! \n",
    "\n",
    "for file in files:\n",
    "    if \"Cybex General Open Orders (Routing Tool)\" in file: \n",
    "        tool = pd.read_excel(file)\n",
    "    elif \"Shipping Totals by Order Line\" in file:\n",
    "        ship = pd.read_excel(file)\n",
    "    elif \"From Dock to Stock Report\" in file:\n",
    "        stock = pd.read_excel(file)\n",
    "    elif \"Inventory Cycle Counts\" in file:\n",
    "        inventory = pd.read_excel(file)\n",
    "        \n",
    "## all good part, don't do anything!! can be read as usual dataframe.\n",
    "## Do NOT open the file when the python running!"
   ]
  },
  {
   "cell_type": "code",
   "execution_count": 3,
   "id": "dce64440",
   "metadata": {},
   "outputs": [
    {
     "data": {
      "text/plain": [
       "array(['B2B-RETAIL', 'B2B-ORDER', 'B2B-INTERNATIONAL',\n",
       "       'B2B-INTERNATIONAL RETAIL', 'eCOM', 'B2B-DROPSHIP', 'Not Defined'],\n",
       "      dtype=object)"
      ]
     },
     "execution_count": 3,
     "metadata": {},
     "output_type": "execute_result"
    }
   ],
   "source": [
    "ship['Order Type'].unique()"
   ]
  },
  {
   "cell_type": "markdown",
   "id": "5871f3f2",
   "metadata": {},
   "source": [
    "### (╭☞•̀o•́)╭☞This is column C/D B2B Retail "
   ]
  },
  {
   "cell_type": "code",
   "execution_count": 4,
   "id": "afaab82e",
   "metadata": {},
   "outputs": [],
   "source": [
    "from datetime import datetime, timedelta\n",
    "\n",
    "yesterday = datetime.now() - timedelta(days=1)"
   ]
  },
  {
   "cell_type": "code",
   "execution_count": 5,
   "id": "145975ce",
   "metadata": {},
   "outputs": [
    {
     "data": {
      "text/plain": [
       "datetime.datetime(2023, 4, 12, 13, 30, 48, 776738)"
      ]
     },
     "execution_count": 5,
     "metadata": {},
     "output_type": "execute_result"
    }
   ],
   "source": [
    "yesterday "
   ]
  },
  {
   "cell_type": "code",
   "execution_count": 6,
   "id": "bc222339",
   "metadata": {},
   "outputs": [
    {
     "data": {
      "text/plain": [
       "array(['B2B-RETAIL', 'B2B-ORDER', 'B2B-INTERNATIONAL',\n",
       "       'B2B-INTERNATIONAL RETAIL', 'eCOM', 'B2B-DROPSHIP', 'Not Defined'],\n",
       "      dtype=object)"
      ]
     },
     "execution_count": 6,
     "metadata": {},
     "output_type": "execute_result"
    }
   ],
   "source": [
    "ship['Order Type'].unique()"
   ]
  },
  {
   "cell_type": "code",
   "execution_count": 7,
   "id": "76c531b9",
   "metadata": {},
   "outputs": [],
   "source": [
    "column_c_d = ship[ship['Order Type'].isin(['B2B-RETAIL', 'B2B-ORDER', 'B2B-INTERNATIONAL', 'B2B-INTERNATIONAL RETAIL'])]"
   ]
  },
  {
   "cell_type": "code",
   "execution_count": 8,
   "id": "8bca2d74",
   "metadata": {},
   "outputs": [],
   "source": [
    "column_c_d = column_c_d[column_c_d['Loaded Date'].dt.date == yesterday.date()]\n",
    "\n",
    "#pick only the date without timestamp! very important! with time will need more conditions. "
   ]
  },
  {
   "cell_type": "code",
   "execution_count": 9,
   "id": "f0ea570c",
   "metadata": {},
   "outputs": [
    {
     "name": "stdout",
     "output_type": "stream",
     "text": [
      "\n",
      " ** the B2B ON time Orders: 57 **\n",
      "\n"
     ]
    }
   ],
   "source": [
    "print (f\"\\n ** the B2B ON time Orders: {column_c_d['Order'].nunique()} **\\n\")\n",
    "\n",
    "# Done! "
   ]
  },
  {
   "cell_type": "markdown",
   "id": "bc88afd3",
   "metadata": {},
   "source": [
    "### (╭☞•̀o•́)╭☞This is column G/H Ecom outbound on time Orders"
   ]
  },
  {
   "cell_type": "code",
   "execution_count": 10,
   "id": "0ce43506",
   "metadata": {},
   "outputs": [],
   "source": [
    "ecom = ship[ship['Order Type'].isin(['eCOM'])]"
   ]
  },
  {
   "cell_type": "code",
   "execution_count": 11,
   "id": "f74e654c",
   "metadata": {},
   "outputs": [],
   "source": [
    "from datetime import datetime, timedelta\n",
    "\n",
    "start_date = datetime.now() - timedelta(days=4)\n",
    "middle_date = datetime.now() - timedelta(days=3)\n",
    "end_date = datetime.now() - timedelta(days=1)\n",
    "target_time = datetime.strptime('14:00:00', '%H:%M:%S').time()"
   ]
  },
  {
   "cell_type": "code",
   "execution_count": 12,
   "id": "bd6857cd",
   "metadata": {
    "scrolled": true
   },
   "outputs": [
    {
     "data": {
      "text/plain": [
       "datetime.datetime(2023, 4, 9, 13, 30, 48, 884784)"
      ]
     },
     "execution_count": 12,
     "metadata": {},
     "output_type": "execute_result"
    }
   ],
   "source": [
    "start_date"
   ]
  },
  {
   "cell_type": "code",
   "execution_count": 13,
   "id": "14af5c58",
   "metadata": {},
   "outputs": [
    {
     "data": {
      "text/plain": [
       "datetime.datetime(2023, 4, 10, 13, 30, 48, 884784)"
      ]
     },
     "execution_count": 13,
     "metadata": {},
     "output_type": "execute_result"
    }
   ],
   "source": [
    "middle_date"
   ]
  },
  {
   "cell_type": "code",
   "execution_count": 14,
   "id": "5ced4ec1",
   "metadata": {},
   "outputs": [
    {
     "data": {
      "text/plain": [
       "datetime.datetime(2023, 4, 12, 13, 30, 48, 884784)"
      ]
     },
     "execution_count": 14,
     "metadata": {},
     "output_type": "execute_result"
    }
   ],
   "source": [
    "end_date"
   ]
  },
  {
   "cell_type": "code",
   "execution_count": 15,
   "id": "4e84a73a",
   "metadata": {},
   "outputs": [],
   "source": [
    "if datetime.now().weekday() == 0:\n",
    "    # 如果今天是星期一,星期四<->星期五\n",
    "    ecom_order= ecom[(ecom['WMS Add Date'] >= str(start_date.date()) + ' ' + str(target_time)) \n",
    "                             & (ecom['WMS Add Date'] < str(middle_date.date() + timedelta(days=1)) + ' ' + str(target_time))]\n",
    "    \n",
    "elif datetime.now().weekday() == 1:\n",
    "    # 如果今天是周二，星期5<->星期一，+周末\n",
    "    ecom_order= ecom[(ecom['WMS Add Date'] >= str(start_date.date()) + ' ' + str(target_time)) \n",
    "                             & (ecom['WMS Add Date'] < str(end_date.date()) + ' ' + str(target_time))]\n",
    "else:\n",
    "    # 如果今天是剩下周日，就应该是2天\n",
    "    ecom_order= ecom[(ecom['WMS Add Date'] >= str(end_date.date() - timedelta(days=1)) + ' ' + str(target_time)) \n",
    "                             & (ecom['WMS Add Date'] <= str(end_date.date()) + ' ' + str(target_time))]"
   ]
  },
  {
   "cell_type": "code",
   "execution_count": 16,
   "id": "b89490e4",
   "metadata": {},
   "outputs": [
    {
     "name": "stdout",
     "output_type": "stream",
     "text": [
      "\n",
      " ** the eCOM outbound ON time Orders: 25 **\n",
      "\n"
     ]
    }
   ],
   "source": [
    "print (f\"\\n ** the eCOM outbound ON time Orders: {ecom_order['Order'].nunique()} **\\n\")\n",
    "\n",
    "# Done! "
   ]
  },
  {
   "cell_type": "markdown",
   "id": "7e05e97d",
   "metadata": {},
   "source": [
    "### (╭☞•̀o•́)╭☞This is column K/L Dropship on time Orders"
   ]
  },
  {
   "cell_type": "code",
   "execution_count": 17,
   "id": "640a0dfd",
   "metadata": {},
   "outputs": [],
   "source": [
    "dropship = ship[ship['Order Type'].isin(['B2B-DROPSHIP'])]"
   ]
  },
  {
   "cell_type": "code",
   "execution_count": 18,
   "id": "ccb82894",
   "metadata": {},
   "outputs": [],
   "source": [
    "from datetime import datetime, timedelta\n",
    "\n",
    "dropship_start = datetime.now() - timedelta(days=5)\n",
    "dropship_middle = datetime.now() - timedelta(days=4)\n",
    "dropship_end = datetime.now() - timedelta(days=2)\n",
    "target_time = datetime.strptime('14:00:00', '%H:%M:%S').time()"
   ]
  },
  {
   "cell_type": "code",
   "execution_count": 19,
   "id": "74f0a2af",
   "metadata": {},
   "outputs": [
    {
     "data": {
      "text/plain": [
       "datetime.datetime(2023, 4, 8, 13, 30, 48, 995139)"
      ]
     },
     "execution_count": 19,
     "metadata": {},
     "output_type": "execute_result"
    }
   ],
   "source": [
    "dropship_start"
   ]
  },
  {
   "cell_type": "code",
   "execution_count": 20,
   "id": "d6307f53",
   "metadata": {},
   "outputs": [
    {
     "data": {
      "text/plain": [
       "datetime.datetime(2023, 4, 9, 13, 30, 48, 995139)"
      ]
     },
     "execution_count": 20,
     "metadata": {},
     "output_type": "execute_result"
    }
   ],
   "source": [
    "dropship_middle"
   ]
  },
  {
   "cell_type": "code",
   "execution_count": 21,
   "id": "2084aa8b",
   "metadata": {},
   "outputs": [
    {
     "data": {
      "text/plain": [
       "datetime.datetime(2023, 4, 11, 13, 30, 48, 995139)"
      ]
     },
     "execution_count": 21,
     "metadata": {},
     "output_type": "execute_result"
    }
   ],
   "source": [
    "dropship_end"
   ]
  },
  {
   "cell_type": "code",
   "execution_count": 22,
   "id": "2d670a13",
   "metadata": {},
   "outputs": [],
   "source": [
    "#this is 4 parts loop for different date requirement.\n",
    "#if it is Mon, Tus, Wes and the rest of weeks. I do think there is better way but don't know yet\n",
    "\n",
    "if datetime.now().weekday() == 0:\n",
    "    # 如果今天是星期一,星期三<->星期四\n",
    "    dropship_order = dropship[(dropship['WMS Add Date'] >= str(dropship_start.date()) + ' ' + str(target_time)) \n",
    "                             & (dropship['WMS Add Date'] < str(dropship_middle.date() + timedelta(days=1)) + ' ' + str(target_time))]\n",
    "\n",
    "elif datetime.now().weekday() == 1:\n",
    "    # 如果今天是星期二，星期四<->星期五\n",
    "    dropship_order = dropship[(dropship['WMS Add Date'] >= str(dropship_start.date()) + ' ' + str(target_time)) \n",
    "                             & (dropship['WMS Add Date'] < str(dropship_midddle.date()) + ' ' + str(target_time))]\n",
    "    \n",
    "elif datetime.now().weekday() == 2:\n",
    "    # 如果今天是星期三，星期五<->星期1 + 周末\n",
    "    dropship_order = dropship[(dropship['WMS Add Date'] >= str(dropship_start.date()) + ' ' + str(target_time)) \n",
    "                             & (dropship['WMS Add Date'] < str(dropship_end.date()) + ' ' + str(target_time))]\n",
    "\n",
    "else:\n",
    "    # 如果今天是剩下周日，就应该是2天\n",
    "    dropship_order = dropship[(dropship['WMS Add Date'] >= str(datetime.now() - timedelta(days=3)) + ' ' + str(target_time)) \n",
    "                             & (dropship['WMS Add Date'] < str(datetime.now() - timedelta(days=2)) + ' ' + str(target_time))]"
   ]
  },
  {
   "cell_type": "code",
   "execution_count": 23,
   "id": "99f004ff",
   "metadata": {},
   "outputs": [
    {
     "name": "stdout",
     "output_type": "stream",
     "text": [
      "\n",
      " ** the B2C dropship ON time Orders: 21 **\n",
      "\n"
     ]
    }
   ],
   "source": [
    "print (f\"\\n ** the B2C dropship ON time Orders: {dropship_order['Order'].nunique()} **\\n\")"
   ]
  },
  {
   "cell_type": "markdown",
   "id": "ade29d39",
   "metadata": {},
   "source": [
    "### if yesterday apperead in the list, then it will give the answer and also, you can pick the date to check"
   ]
  },
  {
   "cell_type": "code",
   "execution_count": 24,
   "id": "bdf5bb13",
   "metadata": {
    "scrolled": false
   },
   "outputs": [
    {
     "data": {
      "text/plain": [
       "array(['2023/03/13', '2023/03/16', '2023/03/17', '2023/03/30',\n",
       "       '2023/03/31', '2023/04/04', '2023/04/06', '2023/04/07',\n",
       "       '2023/04/10', '2023/04/12'], dtype=object)"
      ]
     },
     "execution_count": 24,
     "metadata": {},
     "output_type": "execute_result"
    }
   ],
   "source": [
    "# Convert the 'Count Date' column to a Pandas DatetimeIndex\n",
    "inventory['Count Date'] = pd.to_datetime(inventory['Count Date'])\n",
    "\n",
    "# Use strftime() to convert the dates to the desired format\n",
    "inventory['Date'] = inventory['Count Date'].dt.strftime('%Y/%m/%d')\n",
    "\n",
    "# Print the unique count dates in the new format\n",
    "unique_dates = inventory['Date'].unique()\n",
    "\n",
    "#unique_dates = pd.DataFrame(unique_dates)\n",
    "\n",
    "#unique_dates.columns = ['date']\n",
    "\n",
    "unique_dates\n",
    "\n",
    "# must create new column just date, becasue if it with time. It can't be called. "
   ]
  },
  {
   "cell_type": "code",
   "execution_count": 25,
   "id": "c4f4542f",
   "metadata": {},
   "outputs": [
    {
     "name": "stdout",
     "output_type": "stream",
     "text": [
      "\n",
      "*** The Unique Locations # for 2023/04/12 is 237 ***\n",
      "\n",
      "*** The Sum of Actual Inventory # for 2023/04/12 is 2098 ***\n",
      "\n",
      "*** The Sum of Expected Inventory # for 2023/04/12 is 2098 ***\n"
     ]
    }
   ],
   "source": [
    "# Get the current date and subtract one day\n",
    "date_to_pick = datetime.now() - timedelta(days=1)\n",
    "\n",
    "# Convert date_to_pick to string in the same format as unique_dates\n",
    "date_to_pick_str = date_to_pick.strftime('%Y/%m/%d')\n",
    "\n",
    "# Initialize flag to check if date_to_pick is found in unique_dates\n",
    "date_found = False\n",
    "\n",
    "# Check if date_to_pick is in unique_dates\n",
    "for unique_date in unique_dates:\n",
    "    if date_to_pick_str in unique_date:\n",
    "        filtered_inventory = inventory[(inventory['Count Type'] != 'Audit Count') & (inventory['Date'] == date_to_pick_str)]\n",
    "        num_unique_locations = filtered_inventory[\"Location\"].nunique()\n",
    "        sum_counted_qty = int(filtered_inventory[\"Counted Qty\"].sum())\n",
    "        sum_expected_qty = int(filtered_inventory[\"Expected Qty\"].sum())\n",
    "        date_found = True\n",
    "        break\n",
    "\n",
    "# If date_to_pick is found in unique_dates, print the results, otherwise print \"There is no data for today\"\n",
    "if date_found:\n",
    "    print(f\"\\n*** The Unique Locations # for {date_to_pick_str} is {num_unique_locations} ***\")\n",
    "    print(f\"\\n*** The Sum of Actual Inventory # for {date_to_pick_str} is {sum_counted_qty} ***\")\n",
    "    print(f\"\\n*** The Sum of Expected Inventory # for {date_to_pick_str} is {sum_expected_qty} ***\")\n",
    "else:\n",
    "    print(\"There is no data for today\")\n"
   ]
  },
  {
   "cell_type": "code",
   "execution_count": 26,
   "id": "05794dcf",
   "metadata": {
    "scrolled": true
   },
   "outputs": [
    {
     "name": "stdout",
     "output_type": "stream",
     "text": [
      "['2023/02/23', '2023/02/24', '2023/02/27', '2023/02/28', '2023/03/01', '2023/03/02', '2023/03/03', '2023/03/06', '2023/03/07', '2023/03/08', '2023/03/09', '2023/03/10', '2023/03/13', '2023/03/14', '2023/03/15', '2023/03/16', '2023/03/17', '2023/03/20', '2023/03/21', '2023/03/22', '2023/03/23', '2023/03/24', '2023/03/27', '2023/03/28', '2023/03/29', '2023/03/30', '2023/03/31', '2023/04/03', '2023/04/04', '2023/04/05', '2023/04/06', '2023/04/07', '2023/04/10', '2023/04/11', '2023/04/12']\n"
     ]
    }
   ],
   "source": [
    "# order['WMS Add Date'].dtype = object\n",
    "ship['Loaded Date'] = pd.to_datetime(ship['Loaded Date'])\n",
    "\n",
    "# Use strftime() to convert the dates to the desired format\n",
    "ship['Loaded Date'] = ship['Loaded Date'].dt.strftime('%Y/%m/%d')\n",
    "\n",
    "# Print the unique count dates in the new format\n",
    "unique_dates = ship['Loaded Date'].unique()\n",
    "unique_dates = sorted(unique_dates, reverse=False)\n",
    "print(unique_dates)"
   ]
  },
  {
   "cell_type": "code",
   "execution_count": 27,
   "id": "3e6309d8",
   "metadata": {},
   "outputs": [
    {
     "name": "stdout",
     "output_type": "stream",
     "text": [
      "Enter a date (YYYY-MM-DD) to check the inventory2023/04/12\n",
      "\n",
      "\n",
      "***  The Total Outbound Orders Completed # for 2023/04/12 is ** 106 **\n"
     ]
    }
   ],
   "source": [
    "date_to_pick = input(\"Enter a date (YYYY-MM-DD) to check the inventory\")\n",
    "\n",
    "\n",
    "sum_of_outbound = ship[(ship['Order Type'] != 'Not Defined') & (ship['Loaded Date'] == date_to_pick)]\n",
    "outbound_order_sum = sum_of_outbound['Order'].nunique()\n",
    "    \n",
    "print(f\"\\n\\n***  The Total Outbound Orders Completed # for {date_to_pick} is ** {outbound_order_sum} **\")\n",
    "\n",
    "#Column O"
   ]
  },
  {
   "cell_type": "code",
   "execution_count": 33,
   "id": "8274d662",
   "metadata": {},
   "outputs": [
    {
     "name": "stdout",
     "output_type": "stream",
     "text": [
      "Enter a date (YYYY-MM-DD) to check the inventory or 'd' to quit: 2023/04/12\n",
      "***  The Unique Locations # for 2023/04/12 is ** 237  ***\n",
      "***  The Sum of Actual Inventory # for 2023/04/12 is ** 2098  ***\n",
      "***  The Sum of Expected Inventory # for 2023/04/12 is ** 2098  ***\n",
      "Enter a date (YYYY-MM-DD) to check the inventory or 'd' to quit: d\n"
     ]
    }
   ],
   "source": [
    "#this is the loop for checking any kind of date for the inventory unique# without desotry the \"inventory\" dataframe\n",
    "#这个loop不会只显示一个时间段，这个loop可以自由选择时间来得到数据\n",
    "\n",
    "while True:\n",
    "    date_to_pick = input(\"Enter a date (YYYY-MM-DD) to check the inventory or 'd' to quit: \")\n",
    "    if date_to_pick == 'd':\n",
    "        break\n",
    "        \n",
    "    filtered_inventory = inventory[(inventory['Count Type'] != 'Audit Count') & (inventory['Date'] == date_to_pick)]\n",
    "    num_unique_locations = filtered_inventory[\"Location\"].nunique()\n",
    "    \n",
    "    print(f\"***  The Unique Locations # for {date_to_pick} is ** {num_unique_locations}  ***\")\n",
    "    \n",
    "    sum_counted_qty = int(filtered_inventory[\"Counted Qty\"].sum())\n",
    "    \n",
    "    print(f\"***  The Sum of Actual Inventory # for {date_to_pick} is ** {sum_counted_qty}  ***\")\n",
    "    \n",
    "    sum_expected_qty = int(filtered_inventory[\"Expected Qty\"].sum())\n",
    "    \n",
    "    print(f\"***  The Sum of Expected Inventory # for {date_to_pick} is ** {sum_expected_qty}  ***\")\n",
    "    \n",
    "#Column AG, AI, AJ, all this part is good. if there is no data, which is 0, Do not change anything!!"
   ]
  },
  {
   "cell_type": "code",
   "execution_count": 31,
   "id": "944384b1",
   "metadata": {},
   "outputs": [
    {
     "name": "stdout",
     "output_type": "stream",
     "text": [
      "GOOD work!! BOY!\n"
     ]
    }
   ],
   "source": [
    "print (\"GOOD work!! BOY!\")"
   ]
  },
  {
   "cell_type": "code",
   "execution_count": null,
   "id": "c790a6ce",
   "metadata": {},
   "outputs": [],
   "source": []
  }
 ],
 "metadata": {
  "kernelspec": {
   "display_name": "Python 3 (ipykernel)",
   "language": "python",
   "name": "python3"
  },
  "language_info": {
   "codemirror_mode": {
    "name": "ipython",
    "version": 3
   },
   "file_extension": ".py",
   "mimetype": "text/x-python",
   "name": "python",
   "nbconvert_exporter": "python",
   "pygments_lexer": "ipython3",
   "version": "3.9.12"
  }
 },
 "nbformat": 4,
 "nbformat_minor": 5
}
