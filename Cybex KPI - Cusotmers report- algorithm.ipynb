{
 "cells": [
  {
   "cell_type": "code",
   "execution_count": 1,
   "id": "b62184c1",
   "metadata": {},
   "outputs": [],
   "source": [
    "import glob\n",
    "\n",
    "import pandas as pd\n",
    "import numpy as np\n",
    "import csv\n",
    "\n",
    "#Now reading partial names as list and loading them as one one. \n",
    "\n",
    "partial_names = [\"Cybex General Open Orders (Routing Tool)\", \n",
    "                 \"Shipping Totals by Order Line\",\n",
    "                 \"From Dock to Stock Report\", \n",
    "                 \"Inventory Cycle Counts\",\n",
    "                 \"Cybex Quality\",\n",
    "                 \"Cybex Transaction Report\"]\n",
    "files = []\n",
    "#collect it to the list... \n",
    "\n",
    "for name in partial_names:\n",
    "    files.extend(glob.glob(r\"C:\\Users\\liuchen\\Downloads\\*{}*\".format(name)))\n",
    "    \n",
    "#all good part, don't do anything!!"
   ]
  },
  {
   "cell_type": "code",
   "execution_count": 2,
   "id": "23b0528f",
   "metadata": {},
   "outputs": [],
   "source": [
    "import datetime\n",
    "from datetime import timedelta\n",
    "from datetime import date"
   ]
  },
  {
   "cell_type": "code",
   "execution_count": 3,
   "id": "1eaa1bd3",
   "metadata": {
    "scrolled": false
   },
   "outputs": [
    {
     "name": "stderr",
     "output_type": "stream",
     "text": [
      "C:\\Users\\liuchen\\Anaconda3\\lib\\site-packages\\openpyxl\\styles\\stylesheet.py:226: UserWarning: Workbook contains no default style, apply openpyxl's default\n",
      "  warn(\"Workbook contains no default style, apply openpyxl's default\")\n",
      "C:\\Users\\liuchen\\Anaconda3\\lib\\site-packages\\openpyxl\\styles\\stylesheet.py:226: UserWarning: Workbook contains no default style, apply openpyxl's default\n",
      "  warn(\"Workbook contains no default style, apply openpyxl's default\")\n",
      "C:\\Users\\liuchen\\Anaconda3\\lib\\site-packages\\openpyxl\\styles\\stylesheet.py:226: UserWarning: Workbook contains no default style, apply openpyxl's default\n",
      "  warn(\"Workbook contains no default style, apply openpyxl's default\")\n",
      "C:\\Users\\liuchen\\Anaconda3\\lib\\site-packages\\openpyxl\\styles\\stylesheet.py:226: UserWarning: Workbook contains no default style, apply openpyxl's default\n",
      "  warn(\"Workbook contains no default style, apply openpyxl's default\")\n",
      "C:\\Users\\liuchen\\Anaconda3\\lib\\site-packages\\openpyxl\\styles\\stylesheet.py:226: UserWarning: Workbook contains no default style, apply openpyxl's default\n",
      "  warn(\"Workbook contains no default style, apply openpyxl's default\")\n"
     ]
    }
   ],
   "source": [
    "#read all the files as dataframe!! \n",
    "\n",
    "for file in files:\n",
    "    if \"Cybex General Open Orders (Routing Tool)\" in file: \n",
    "        tool = pd.read_excel(file)\n",
    "    elif \"Shipping Totals by Order Line\" in file:\n",
    "        ship = pd.read_excel(file)\n",
    "    elif \"From Dock to Stock Report\" in file:\n",
    "        stock = pd.read_excel(file)\n",
    "    elif \"Inventory Cycle Counts\" in file:\n",
    "        inventory = pd.read_excel(file)\n",
    "    elif \"Cybex Quality\" in file:\n",
    "        quality = pd.read_excel(file)\n",
    "    elif \"Cybex Transaction Report\" in file:\n",
    "        transaction = pd.read_excel(file)\n",
    "        \n",
    "## all good part, don't do anything!! can be read as usual dataframe.\n",
    "## Do NOT open the file when the python running!"
   ]
  },
  {
   "cell_type": "markdown",
   "id": "9979cc31",
   "metadata": {},
   "source": [
    "### (╭☞•̀o•́)╭☞     This is Line 6:"
   ]
  },
  {
   "cell_type": "code",
   "execution_count": 4,
   "id": "00ee16ea",
   "metadata": {
    "scrolled": false
   },
   "outputs": [
    {
     "name": "stdout",
     "output_type": "stream",
     "text": [
      "\n",
      "     the open in total units is: 2680\n"
     ]
    }
   ],
   "source": [
    "open_total = int(tool['Ordered QTY'].sum())\n",
    "\n",
    "print(f\"\\n     the open in total units is: {open_total}\")"
   ]
  },
  {
   "cell_type": "markdown",
   "id": "f61f6852",
   "metadata": {},
   "source": [
    "### Line 7: (╭☞•̀o•́)╭☞  Order intake right here!!"
   ]
  },
  {
   "cell_type": "raw",
   "id": "5adc62aa",
   "metadata": {},
   "source": [
    "from datetime import datetime, timedelta\n",
    "\n",
    "start_date = datetime.now() - timedelta(days=4)\n",
    "end_date = datetime.now() - timedelta(days=1)\n",
    "\n",
    "for i in range((end_date - start_date).days + 1):\n",
    "    current_date = start_date + timedelta(days=i)"
   ]
  },
  {
   "cell_type": "code",
   "execution_count": 5,
   "id": "78b58015",
   "metadata": {},
   "outputs": [],
   "source": [
    "from datetime import datetime, timedelta\n",
    "\n",
    "start_date = datetime.now() - timedelta(days=4)\n",
    "middle_date = datetime.now() - timedelta(days=3)\n",
    "end_date = datetime.now() - timedelta(days=1)\n",
    "target_time = datetime.strptime('14:00:00', '%H:%M:%S').time()"
   ]
  },
  {
   "cell_type": "code",
   "execution_count": 6,
   "id": "9df49e2b",
   "metadata": {},
   "outputs": [
    {
     "data": {
      "text/plain": [
       "datetime.datetime(2023, 4, 2, 14, 56, 56, 861796)"
      ]
     },
     "execution_count": 6,
     "metadata": {},
     "output_type": "execute_result"
    }
   ],
   "source": [
    "datetime.now() - timedelta(days=4)"
   ]
  },
  {
   "cell_type": "code",
   "execution_count": 7,
   "id": "2adf0b27",
   "metadata": {},
   "outputs": [
    {
     "data": {
      "text/plain": [
       "datetime.datetime(2023, 4, 3, 14, 56, 56, 848543)"
      ]
     },
     "execution_count": 7,
     "metadata": {},
     "output_type": "execute_result"
    }
   ],
   "source": [
    "middle_date"
   ]
  },
  {
   "cell_type": "code",
   "execution_count": 8,
   "id": "9173b11f",
   "metadata": {
    "scrolled": true
   },
   "outputs": [
    {
     "data": {
      "text/plain": [
       "datetime.datetime(2023, 4, 5, 14, 56, 56, 894281)"
      ]
     },
     "execution_count": 8,
     "metadata": {},
     "output_type": "execute_result"
    }
   ],
   "source": [
    "datetime.now() - timedelta(days=1)"
   ]
  },
  {
   "cell_type": "code",
   "execution_count": 9,
   "id": "ae7edad6",
   "metadata": {},
   "outputs": [
    {
     "data": {
      "text/plain": [
       "datetime.date(2023, 4, 4)"
      ]
     },
     "execution_count": 9,
     "metadata": {},
     "output_type": "execute_result"
    }
   ],
   "source": [
    "end_date.date() - timedelta(days=1)"
   ]
  },
  {
   "cell_type": "code",
   "execution_count": 10,
   "id": "2f75cc1d",
   "metadata": {
    "scrolled": true
   },
   "outputs": [
    {
     "data": {
      "text/plain": [
       "datetime.date(2023, 4, 5)"
      ]
     },
     "execution_count": 10,
     "metadata": {},
     "output_type": "execute_result"
    }
   ],
   "source": [
    "end_date.date()"
   ]
  },
  {
   "cell_type": "code",
   "execution_count": 11,
   "id": "2fccefe5",
   "metadata": {},
   "outputs": [
    {
     "name": "stdout",
     "output_type": "stream",
     "text": [
      "87.0\n"
     ]
    }
   ],
   "source": [
    "#如果是星期二，有且需要一个条件，如果今天是星期二，就，如果不是，则： \n",
    "\n",
    "if datetime.now().weekday() == 1:\n",
    "    # 如果今天是周二，就应该是4天\n",
    "    tool_order_intake = tool[(tool['Ordered Date'] >= str(start_date.date()) + ' ' + str(target_time)) \n",
    "                             & (tool['Ordered Date'] < str(end_date.date() + timedelta(days=1)) + ' ' + str(target_time))]\n",
    "    \n",
    "elif datetime.now().weekday() == 0:\n",
    "    # 如果今天是周一，就应该是星期五，星期六\n",
    "    tool_order_intake = tool[(tool['Ordered Date'] >= str(start_date.date()) + ' ' + str(target_time)) \n",
    "                             & (tool['Ordered Date'] < str(middle_date.date()) + ' ' + str(target_time))]\n",
    "    \n",
    "else:\n",
    "    # 如果今天不是周二，就应该是2天\n",
    "    tool_order_intake = tool[(tool['Ordered Date'] >= str(end_date.date() - timedelta(days=1)) + ' ' + str(target_time)) \n",
    "                             & (tool['Ordered Date'] < str(end_date.date()) + ' ' + str(target_time))]\n",
    "\n",
    "tool_total_orderintake_qty = tool_order_intake['Ordered QTY'].sum()\n",
    "print(tool_total_orderintake_qty)\n",
    "\n",
    "#这段算是成功了，非常简单的loop，就是看今天，今天是不是星期二，然后进行归类"
   ]
  },
  {
   "cell_type": "code",
   "execution_count": 12,
   "id": "8ea490e6",
   "metadata": {},
   "outputs": [
    {
     "name": "stdout",
     "output_type": "stream",
     "text": [
      "137.0\n"
     ]
    }
   ],
   "source": [
    "\n",
    "start_date = datetime.now() - timedelta(days=4)\n",
    "end_date = datetime.now() - timedelta(days=1)\n",
    "target_time = datetime.strptime('14:00:00', '%H:%M:%S').time()\n",
    "\n",
    "if datetime.now().weekday() == 1:\n",
    "    \n",
    "    ship_order_intake = ship[(ship['WMS Add Date'] >= str(start_date.date()) + ' ' + str(target_time)) \n",
    "                             & (ship['WMS Add Date'] < str(end_date.date() + timedelta(days=1)) + ' ' + str(target_time))]\n",
    "    \n",
    "elif datetime.now().weekday() == 0:\n",
    "    # 如果今天是周一，就应该是星期五，星期六\n",
    "    ship_order_intake = ship[(ship['WMS Add Date'] >= str(start_date.date()) + ' ' + str(target_time)) \n",
    "                             & (ship['WMS Add Date'] < str(middle_date.date()) + ' ' + str(target_time))]\n",
    "\n",
    "    \n",
    "else:\n",
    "    #\n",
    "    ship_order_intake = ship[(ship['WMS Add Date'] >= str(end_date.date() - timedelta(days=1)) + ' ' + str(target_time)) \n",
    "                             & (ship['WMS Add Date'] < str(end_date.date()) + ' ' + str(target_time))]\n",
    "\n",
    "ship_total_orderintake_qty = ship_order_intake['Shipped Qty'].sum()\n",
    "print(ship_total_orderintake_qty)\n",
    "\n",
    "#这段算是成功了"
   ]
  },
  {
   "cell_type": "code",
   "execution_count": 13,
   "id": "535b2cfb",
   "metadata": {
    "scrolled": false
   },
   "outputs": [
    {
     "name": "stdout",
     "output_type": "stream",
     "text": [
      "\n",
      "   the open in total units is: 224\n"
     ]
    }
   ],
   "source": [
    "#2者相加，得出结果\n",
    "\n",
    "print(f\"\\n   the open in total units is: {int(tool_total_orderintake_qty + ship_total_orderintake_qty)}\")"
   ]
  },
  {
   "cell_type": "markdown",
   "id": "b4154972",
   "metadata": {},
   "source": [
    "### (╭☞•̀o•́)╭☞  Check if there is any order late from B2B_dropship | B2C_Par Delay"
   ]
  },
  {
   "cell_type": "code",
   "execution_count": 14,
   "id": "bde8f831",
   "metadata": {},
   "outputs": [],
   "source": [
    "import datetime\n",
    "\n",
    "today = datetime.date.today()\n",
    "\n",
    "#The  method returns the minimum time value of a datetime object, which is midnight (00:00:00)\n",
    "today_datetime = datetime.datetime.combine(today, datetime.datetime.min.time())\n",
    "\n",
    "#pick the condiditons for over due wmsn orders. \n",
    "overduewms = tool[(tool['Order Type'].isin(['B2B-PU', 'B2B-MIX', 'B2B-PD', 'B2B-PAR'])) \n",
    "                  & (tool['Cancel By Date'] < today_datetime)]\n"
   ]
  },
  {
   "cell_type": "code",
   "execution_count": 15,
   "id": "4f00e696",
   "metadata": {
    "scrolled": false
   },
   "outputs": [
    {
     "data": {
      "text/plain": [
       "[numpy.datetime64('2023-03-30T00:00:00.000000000'),\n",
       " numpy.datetime64('2023-03-31T00:00:00.000000000'),\n",
       " numpy.datetime64('2023-04-03T00:00:00.000000000')]"
      ]
     },
     "execution_count": 15,
     "metadata": {},
     "output_type": "execute_result"
    }
   ],
   "source": [
    "sorted(overduewms['Cancel By Date'].unique())"
   ]
  },
  {
   "cell_type": "code",
   "execution_count": 16,
   "id": "5462885e",
   "metadata": {},
   "outputs": [],
   "source": [
    "# (╭☞•̀o•́)╭☞  Export the B2B possbile overdue orders \n",
    "\n",
    "overduewms.to_excel(r'C:/Users/liuchen/Desktop/B2B_overduewms_results.xlsx')"
   ]
  },
  {
   "cell_type": "markdown",
   "id": "e19691b2",
   "metadata": {},
   "source": [
    "### Zip() is a built-in Python function that is used to combine multiple iterables (e.g., lists, tuples, etc.) into a single iterable of tuples."
   ]
  },
  {
   "cell_type": "code",
   "execution_count": 17,
   "id": "3bf81437",
   "metadata": {
    "scrolled": false
   },
   "outputs": [
    {
     "name": "stdout",
     "output_type": "stream",
     "text": [
      "    Order Number Delay Status\n",
      "0       81763098   *No delay*\n",
      "1       81763100   *No delay*\n",
      "2       81763101   *No delay*\n",
      "3       81764085  *The delay*\n",
      "4       81764086  *The delay*\n",
      "5       81764112  *The delay*\n",
      "6       81764108  *The delay*\n",
      "7       81764117  *The delay*\n",
      "8       81764115  *The delay*\n",
      "9       81764105  *The delay*\n",
      "10      81764106  *The delay*\n",
      "11      81764107  *The delay*\n",
      "12      81764109  *The delay*\n",
      "13      81764120  *The delay*\n",
      "14      81764114  *The delay*\n",
      "15      81764118  *The delay*\n",
      "16      81764113  *The delay*\n",
      "17      81764116  *The delay*\n",
      "18      81764119  *The delay*\n"
     ]
    },
    {
     "name": "stderr",
     "output_type": "stream",
     "text": [
      "C:\\Users\\liuchen\\AppData\\Local\\Temp\\ipykernel_20784\\1297970092.py:9: FutureWarning: Comparison of Timestamp with datetime.date is deprecated in order to match the standard library behavior. In a future version these will be considered non-comparable. Use 'ts == pd.Timestamp(date)' or 'ts.date() == date' instead.\n",
      "  if ordered_date + timedelta(days=1) > date.today():\n"
     ]
    }
   ],
   "source": [
    "# B2B_dropship delay: 🍨ԅ( ͒ ۝ ͒ )\n",
    "\n",
    "from datetime import datetime\n",
    "\n",
    "b2b_dropship = tool[(tool['Order Type'].isin(['B2B-DROPSHIP']))]\n",
    "\n",
    "results = []\n",
    "for order_number, ordered_date in zip(b2b_dropship['Order Number'], b2b_dropship['Ordered Date']):\n",
    "    if ordered_date + timedelta(days=1) > date.today():\n",
    "        results.append((order_number, \"*The delay*\"))\n",
    "    else:\n",
    "        results.append((order_number, \"*No delay*\"))\n",
    "\n",
    "## results = list,including two columns combined.\n",
    "\n",
    "output = pd.DataFrame(results, columns=[\"Order Number\", \"Delay Status\"])\n",
    "print(output)        \n"
   ]
  },
  {
   "cell_type": "code",
   "execution_count": 18,
   "id": "0f139e12",
   "metadata": {
    "scrolled": false
   },
   "outputs": [
    {
     "name": "stdout",
     "output_type": "stream",
     "text": [
      "    Order Number Delay Status\n",
      "0       81763096   *No delay*\n",
      "1       81763099   *No delay*\n",
      "2       81763114   *No delay*\n",
      "3       81763383   *No delay*\n",
      "4       81763384   *No delay*\n",
      "5       81763385   *No delay*\n",
      "6       81763387   *No delay*\n",
      "7       81763386   *No delay*\n",
      "8       81763389   *No delay*\n",
      "9       81763388   *No delay*\n",
      "10      81763391   *No delay*\n",
      "11      81763390   *No delay*\n",
      "12      81763392   *No delay*\n",
      "13      81763393   *No delay*\n",
      "14      81763394   *No delay*\n",
      "15      81763422   *No delay*\n",
      "16      81763451   *No delay*\n",
      "17      81763454   *No delay*\n",
      "18      81763565   *No delay*\n",
      "19      81763669   *No delay*\n",
      "20      81764055   *No delay*\n",
      "21      81764104   *No delay*\n",
      "\n",
      "what is the dealy status ['*No delay*']\n"
     ]
    }
   ],
   "source": [
    "# B2C_par delay: 🍫ԅ( ͒ ۝ ͒ )\n",
    "\n",
    "b2c_par = tool[(tool['Order Type'].isin(['B2C-PAR']))]\n",
    "\n",
    "results = []\n",
    "for order_number, ordered_date in zip(b2c_par['Order Number'], b2c_par['Ordered Date']):\n",
    "    if ordered_date > datetime.now().replace(hour=14, minute=0, second=0, microsecond=0):\n",
    "        results.append((order_number, \"*The delay*\"))\n",
    "    else:\n",
    "        results.append((order_number, \"*No delay*\"))\n",
    "\n",
    "output = pd.DataFrame(results, columns=[\"Order Number\", \"Delay Status\"])\n",
    "print(output)\n",
    "\n",
    "print(\"\\nwhat is the dealy status\",output['Delay Status'].unique())\n"
   ]
  },
  {
   "cell_type": "markdown",
   "id": "7e10f1e1",
   "metadata": {},
   "source": [
    "### (╭☞•̀o•́)╭☞      This is Line 11:"
   ]
  },
  {
   "cell_type": "code",
   "execution_count": 19,
   "id": "e7b21a11",
   "metadata": {
    "scrolled": false
   },
   "outputs": [
    {
     "name": "stdout",
     "output_type": "stream",
     "text": [
      "\n",
      "    the open in total units is: 254 \n",
      "\n"
     ]
    }
   ],
   "source": [
    "# get the ordered Qty sum\n",
    "\n",
    "overduewms_num = int(overduewms['Ordered QTY'].sum())\n",
    "print(f\"\\n    the open in total units is: {overduewms_num} \\n\")"
   ]
  },
  {
   "cell_type": "markdown",
   "id": "e81e7f7f",
   "metadata": {},
   "source": [
    "###  (╭☞•̀o•́)╭☞   This is WMS Stauts:"
   ]
  },
  {
   "cell_type": "code",
   "execution_count": 20,
   "id": "945809d2",
   "metadata": {},
   "outputs": [
    {
     "name": "stderr",
     "output_type": "stream",
     "text": [
      "C:\\Users\\liuchen\\AppData\\Local\\Temp\\ipykernel_20784\\1638041360.py:5: SettingWithCopyWarning: \n",
      "A value is trying to be set on a copy of a slice from a DataFrame\n",
      "\n",
      "See the caveats in the documentation: https://pandas.pydata.org/pandas-docs/stable/user_guide/indexing.html#returning-a-view-versus-a-copy\n",
      "  tool['Shipment Status'][i] = 'Blank'\n"
     ]
    },
    {
     "data": {
      "text/html": [
       "<div>\n",
       "<style scoped>\n",
       "    .dataframe tbody tr th:only-of-type {\n",
       "        vertical-align: middle;\n",
       "    }\n",
       "\n",
       "    .dataframe tbody tr th {\n",
       "        vertical-align: top;\n",
       "    }\n",
       "\n",
       "    .dataframe thead th {\n",
       "        text-align: right;\n",
       "    }\n",
       "</style>\n",
       "<table border=\"1\" class=\"dataframe\">\n",
       "  <thead>\n",
       "    <tr style=\"text-align: right;\">\n",
       "      <th></th>\n",
       "      <th>Shipment Status</th>\n",
       "      <th>Ordered QTY</th>\n",
       "    </tr>\n",
       "  </thead>\n",
       "  <tbody>\n",
       "    <tr>\n",
       "      <th>0</th>\n",
       "      <td>Blank</td>\n",
       "      <td>1009.0</td>\n",
       "    </tr>\n",
       "    <tr>\n",
       "      <th>1</th>\n",
       "      <td>In-Process</td>\n",
       "      <td>1107.0</td>\n",
       "    </tr>\n",
       "    <tr>\n",
       "      <th>2</th>\n",
       "      <td>Ready</td>\n",
       "      <td>291.0</td>\n",
       "    </tr>\n",
       "    <tr>\n",
       "      <th>3</th>\n",
       "      <td>Staged</td>\n",
       "      <td>273.0</td>\n",
       "    </tr>\n",
       "  </tbody>\n",
       "</table>\n",
       "</div>"
      ],
      "text/plain": [
       "  Shipment Status  Ordered QTY\n",
       "0           Blank       1009.0\n",
       "1      In-Process       1107.0\n",
       "2           Ready        291.0\n",
       "3          Staged        273.0"
      ]
     },
     "execution_count": 20,
     "metadata": {},
     "output_type": "execute_result"
    }
   ],
   "source": [
    "# 把所有的nan改成blank，不然sum不会算这个nan的数字\n",
    "\n",
    "for i in range(len(tool['Shipment Status'])):\n",
    "    if pd.isnull(tool['Shipment Status'][i]):\n",
    "        tool['Shipment Status'][i] = 'Blank'\n",
    "# 这段已经是成功了\n",
    "\n",
    "wms_status = tool.groupby(tool['Shipment Status'])['Ordered QTY'].sum().reset_index()\n",
    "wms_status\n",
    "# 这段已经也是成功了"
   ]
  },
  {
   "cell_type": "markdown",
   "id": "6b1b7ec1",
   "metadata": {},
   "source": [
    "### (╭☞•̀o•́)╭☞ this is line 23"
   ]
  },
  {
   "cell_type": "code",
   "execution_count": 21,
   "id": "432ac8a7",
   "metadata": {
    "scrolled": true
   },
   "outputs": [
    {
     "data": {
      "text/plain": [
       "Index(['Transaction Date', 'Operation Code', 'Activity Code', 'LPN',\n",
       "       'To Load Number', 'Item Number', 'Quantity', 'From Location',\n",
       "       'To Location', 'Username'],\n",
       "      dtype='object')"
      ]
     },
     "execution_count": 21,
     "metadata": {},
     "output_type": "execute_result"
    }
   ],
   "source": [
    "transaction.columns"
   ]
  },
  {
   "cell_type": "markdown",
   "id": "37579075",
   "metadata": {},
   "source": [
    "### this part is important, sometimes you don't need to convert time to 'UTC'. In this case, you will need. Tried only LND -> CHI time. It doesn't work. "
   ]
  },
  {
   "cell_type": "code",
   "execution_count": 22,
   "id": "1777a4b9",
   "metadata": {},
   "outputs": [],
   "source": [
    "transaction['Transaction Date'] = transaction['Transaction Date'].dt.tz_localize('UTC')\n",
    "\n",
    "transaction['Transaction Date'] = transaction['Transaction Date'].dt.tz_convert('Europe/London')\n",
    "\n",
    "transaction['Transaction Date'] = transaction['Transaction Date'].dt.tz_convert('America/Chicago')"
   ]
  },
  {
   "cell_type": "raw",
   "id": "c766319d",
   "metadata": {},
   "source": [
    "if datetime.now().weekday() == 0:\n",
    "    i = middle_date.date()\n",
    "    \n",
    "elif datetime.now().weekday() != 0:\n",
    "    i = end_date.date()"
   ]
  },
  {
   "cell_type": "code",
   "execution_count": 23,
   "id": "79bbeade",
   "metadata": {},
   "outputs": [],
   "source": [
    "#set the loop becasue on Monday will be need to be last Friday. \n",
    "if datetime.now().weekday() == 0:\n",
    "    i = middle_date.date()\n",
    "    \n",
    "elif datetime.now().weekday() != 0:\n",
    "    i = end_date.date()\n",
    "\n",
    "\n",
    "line23 = transaction[(transaction['Transaction Date'].dt.date == i) & \n",
    "                                    (transaction['From Location'].str.startswith('W')) & \n",
    "                                    (transaction['Activity Code'].isin(['CASPCK', 'KITPCK', 'LSTPCK', 'PALPCK', 'PCEPCK']))]\n"
   ]
  },
  {
   "cell_type": "code",
   "execution_count": 24,
   "id": "97dc215d",
   "metadata": {},
   "outputs": [
    {
     "name": "stdout",
     "output_type": "stream",
     "text": [
      "\n",
      "    the open in total units is: 1213 \n",
      "\n"
     ]
    }
   ],
   "source": [
    "line23_qty = int(line23['Quantity'].sum())\n",
    "\n",
    "print(f\"\\n    the open in total units is: {line23_qty } \\n\")"
   ]
  },
  {
   "cell_type": "markdown",
   "id": "ac0d0584",
   "metadata": {},
   "source": [
    "### (╭☞•̀o•́)╭☞ this is line 26"
   ]
  },
  {
   "cell_type": "code",
   "execution_count": 25,
   "id": "f3774927",
   "metadata": {
    "scrolled": true
   },
   "outputs": [
    {
     "data": {
      "text/plain": [
       "array(['B2B-RETAIL', 'B2B-INTERNATIONAL RETAIL', 'B2B-ORDER',\n",
       "       'B2B-INTERNATIONAL', 'B2B-DROPSHIP', 'eCOM', 'Not Defined'],\n",
       "      dtype=object)"
      ]
     },
     "execution_count": 25,
     "metadata": {},
     "output_type": "execute_result"
    }
   ],
   "source": [
    "ship['Order Type'].unique()"
   ]
  },
  {
   "cell_type": "code",
   "execution_count": 26,
   "id": "96aac74c",
   "metadata": {},
   "outputs": [],
   "source": [
    "#这个必须要，就是把所有的date time 编导一个能公立的方式\n",
    "ship['Loaded Date'] = pd.to_datetime(ship['Loaded Date'], format='%Y/%m/%d')\n",
    "\n",
    "#'!=' 不是总能成功的，有时候Isin更有优势来提取必要条件\n",
    "# 这个也是需要loop，如果是星期一，则需要星期5的data\n",
    "line26 = ship[(ship['Order Type'].isin(['B2B-RETAIL', 'B2B-INTERNATIONAL RETAIL', 'B2B-INTERNATIONAL','B2B-ORDER', 'eCOM', 'B2B-DROPSHIP']))]\n",
    "                                                                                                                "
   ]
  },
  {
   "cell_type": "code",
   "execution_count": 27,
   "id": "f71b0532",
   "metadata": {},
   "outputs": [
    {
     "name": "stderr",
     "output_type": "stream",
     "text": [
      "C:\\Users\\liuchen\\AppData\\Local\\Temp\\ipykernel_20784\\27737810.py:5: UserWarning: Boolean Series key will be reindexed to match DataFrame index.\n",
      "  line26 = line26[(ship['Loaded Date'].dt.date == end_date.date())]\n"
     ]
    }
   ],
   "source": [
    "if datetime.now().weekday() ==0:\n",
    "    line26 = line26[(ship['Loaded Date'].dt.date == middle_date.date())]\n",
    "    \n",
    "elif datetime.now().weekday() !=0:\n",
    "    line26 = line26[(ship['Loaded Date'].dt.date == end_date.date())]"
   ]
  },
  {
   "cell_type": "code",
   "execution_count": 28,
   "id": "07c97f50",
   "metadata": {
    "scrolled": false
   },
   "outputs": [
    {
     "name": "stdout",
     "output_type": "stream",
     "text": [
      "\n",
      "   Line 26 Shipped Actual is: 204 \n",
      "\n"
     ]
    }
   ],
   "source": [
    "print(f\"\\n   Line 26 Shipped Actual is: {int(line26['Shipped Qty'].sum())} \\n\")"
   ]
  },
  {
   "cell_type": "markdown",
   "id": "fe00ef2c",
   "metadata": {},
   "source": [
    "### (╭☞•̀o•́)╭☞ This one is for Canada!!"
   ]
  },
  {
   "cell_type": "code",
   "execution_count": 29,
   "id": "ee030365",
   "metadata": {
    "scrolled": true
   },
   "outputs": [
    {
     "name": "stdout",
     "output_type": "stream",
     "text": [
      "\n",
      " the Canada Open in total: 531\n"
     ]
    }
   ],
   "source": [
    "canada_tool = tool[(tool['Order Type'].isin(['B2B-EXDROP', 'B2B-EXPA', 'B2B-EXP', 'B2B-EXPL','B2B-EXM']))]\n",
    "\n",
    "print(\"\\n the Canada Open in total:\", int(canada_tool['Ordered QTY'].sum()))"
   ]
  },
  {
   "cell_type": "markdown",
   "id": "1b46d37a",
   "metadata": {},
   "source": [
    "### (╭☞•̀o•́)╭☞ Canada line 7 Oder Intake"
   ]
  },
  {
   "cell_type": "code",
   "execution_count": 30,
   "id": "551e7f8b",
   "metadata": {},
   "outputs": [
    {
     "name": "stdout",
     "output_type": "stream",
     "text": [
      "71.0\n"
     ]
    }
   ],
   "source": [
    "start_date = datetime.now() - timedelta(days=4)\n",
    "end_date = datetime.now() - timedelta(days=1)\n",
    "target_time = datetime.strptime('14:00:00', '%H:%M:%S').time()\n",
    "\n",
    "if datetime.now().weekday() == 1:\n",
    "   \n",
    "    ca_order_intake = canada_tool[(canada_tool['Ordered Date'] >= str(start_date.date()) + ' ' + str(target_time)) \n",
    "                             & (canada_tool['Ordered Date'] < str(end_date.date() + timedelta(days=1)) + ' ' + str(target_time))]\n",
    "\n",
    "    \n",
    "elif datetime.now().weekday() == 0:\n",
    "    # 如果今天是周一，就应该是星期五，星期六\n",
    "    ca_order_intake = canada_tool[(canada_tool['Ordered Date'] >= str(start_date.date()) + ' ' + str(target_time)) \n",
    "                             & (canada_tool['Ordered Date'] < str(middle_date.date()) + ' ' + str(target_time))]\n",
    "\n",
    "else:\n",
    "    \n",
    "    ca_order_intake = canada_tool[(canada_tool['Ordered Date'] >= str(end_date.date() - timedelta(days=1)) + ' ' + str(target_time)) \n",
    "                             & (canada_tool['Ordered Date'] < str(end_date.date()) + ' ' + str(target_time))]\n",
    "\n",
    "ca_tool_orderintake_qty = ca_order_intake['Ordered QTY'].sum()\n",
    "print(ca_tool_orderintake_qty)"
   ]
  },
  {
   "cell_type": "code",
   "execution_count": 31,
   "id": "9421bbe6",
   "metadata": {
    "scrolled": false
   },
   "outputs": [
    {
     "data": {
      "text/plain": [
       "array(['B2B-RETAIL', 'B2B-INTERNATIONAL RETAIL', 'B2B-ORDER',\n",
       "       'B2B-INTERNATIONAL', 'B2B-DROPSHIP', 'eCOM', 'Not Defined'],\n",
       "      dtype=object)"
      ]
     },
     "execution_count": 31,
     "metadata": {},
     "output_type": "execute_result"
    }
   ],
   "source": [
    "ship['Order Type'].unique()"
   ]
  },
  {
   "cell_type": "code",
   "execution_count": 32,
   "id": "c07d478c",
   "metadata": {},
   "outputs": [],
   "source": [
    "canada_ship = ship[(ship['Order Type'].isin(['B2B-INTERNATIONAL RETAIL','B2B-INTERNATIONAL']))]"
   ]
  },
  {
   "cell_type": "code",
   "execution_count": 33,
   "id": "3b4d641d",
   "metadata": {},
   "outputs": [
    {
     "name": "stdout",
     "output_type": "stream",
     "text": [
      "0.0\n"
     ]
    }
   ],
   "source": [
    "if datetime.now().weekday() == 1:\n",
    "    \n",
    "    ca_ship_intake = canada_ship[(canada_ship['WMS Add Date'] >= str(start_date.date()) + ' ' + str(target_time)) \n",
    "                             & (canada_ship['WMS Add Date'] < str(end_date.date() + timedelta(days=1)) + ' ' + str(target_time))]\n",
    "    \n",
    "\n",
    "elif datetime.now().weekday() == 0:\n",
    "    # 如果今天是周一，就应该是星期五，星期六\n",
    "    ca_ship_intake = canada_ship[(canada_ship['WMS Add Date'] >= str(start_date.date()) + ' ' + str(target_time)) \n",
    "                             & (canada_ship['WMS Add Date'] < str(middle_date.date()) + ' ' + str(target_time))]  \n",
    "    \n",
    "else:\n",
    "    \n",
    "    ca_ship_intake = canada_ship[(canada_ship['WMS Add Date'] >= str(end_date.date() - timedelta(days=1)) + ' ' + str(target_time)) \n",
    "                             & (canada_ship['WMS Add Date'] < str(end_date.date()) + ' ' + str(target_time))]\n",
    "\n",
    "ca_ship_intak_qty= ca_ship_intake['Shipped Qty'].sum()\n",
    "print(ca_ship_intak_qty)"
   ]
  },
  {
   "cell_type": "code",
   "execution_count": 34,
   "id": "30d19e1c",
   "metadata": {
    "scrolled": false
   },
   "outputs": [
    {
     "name": "stdout",
     "output_type": "stream",
     "text": [
      "\n",
      "   the open in total units is: 71\n",
      "\n"
     ]
    }
   ],
   "source": [
    "print(f\"\\n   the open in total units is: {int(ca_tool_orderintake_qty + ca_ship_intak_qty)}\\n\")"
   ]
  },
  {
   "cell_type": "markdown",
   "id": "872cf3ec",
   "metadata": {},
   "source": [
    "### (╭☞•̀o•́)╭☞ Canada line 8: Overdue is:  0"
   ]
  },
  {
   "cell_type": "markdown",
   "id": "f062c653",
   "metadata": {},
   "source": [
    "### (╭☞•̀o•́)╭☞ Canada WMS status: "
   ]
  },
  {
   "cell_type": "code",
   "execution_count": 35,
   "id": "0be862d8",
   "metadata": {
    "scrolled": false
   },
   "outputs": [
    {
     "name": "stderr",
     "output_type": "stream",
     "text": [
      "C:\\Users\\liuchen\\AppData\\Local\\Temp\\ipykernel_20784\\1763211965.py:1: SettingWithCopyWarning: \n",
      "A value is trying to be set on a copy of a slice from a DataFrame.\n",
      "Try using .loc[row_indexer,col_indexer] = value instead\n",
      "\n",
      "See the caveats in the documentation: https://pandas.pydata.org/pandas-docs/stable/user_guide/indexing.html#returning-a-view-versus-a-copy\n",
      "  canada_tool['Shipment Status'] = canada_tool['Shipment Status'].fillna('Blank')\n"
     ]
    },
    {
     "data": {
      "text/html": [
       "<div>\n",
       "<style scoped>\n",
       "    .dataframe tbody tr th:only-of-type {\n",
       "        vertical-align: middle;\n",
       "    }\n",
       "\n",
       "    .dataframe tbody tr th {\n",
       "        vertical-align: top;\n",
       "    }\n",
       "\n",
       "    .dataframe thead th {\n",
       "        text-align: right;\n",
       "    }\n",
       "</style>\n",
       "<table border=\"1\" class=\"dataframe\">\n",
       "  <thead>\n",
       "    <tr style=\"text-align: right;\">\n",
       "      <th></th>\n",
       "      <th>Shipment Status</th>\n",
       "      <th>Ordered QTY</th>\n",
       "    </tr>\n",
       "  </thead>\n",
       "  <tbody>\n",
       "    <tr>\n",
       "      <th>0</th>\n",
       "      <td>Blank</td>\n",
       "      <td>98.0</td>\n",
       "    </tr>\n",
       "    <tr>\n",
       "      <th>1</th>\n",
       "      <td>In-Process</td>\n",
       "      <td>99.0</td>\n",
       "    </tr>\n",
       "    <tr>\n",
       "      <th>2</th>\n",
       "      <td>Ready</td>\n",
       "      <td>291.0</td>\n",
       "    </tr>\n",
       "    <tr>\n",
       "      <th>3</th>\n",
       "      <td>Staged</td>\n",
       "      <td>43.0</td>\n",
       "    </tr>\n",
       "  </tbody>\n",
       "</table>\n",
       "</div>"
      ],
      "text/plain": [
       "  Shipment Status  Ordered QTY\n",
       "0           Blank         98.0\n",
       "1      In-Process         99.0\n",
       "2           Ready        291.0\n",
       "3          Staged         43.0"
      ]
     },
     "execution_count": 35,
     "metadata": {},
     "output_type": "execute_result"
    }
   ],
   "source": [
    "canada_tool['Shipment Status'] = canada_tool['Shipment Status'].fillna('Blank')\n",
    "\n",
    "# 这段在上方已经成功了。但是这里不能成功，不知道是不是因为canada不是df的原因\n",
    "#for i in range(len(canada['Shipment Status'])):\n",
    "    #if canada.isnull(canada['Shipment Status'][i]):\n",
    "        #canada['Shipment Status'][i] = 'Blank'\n",
    "        \n",
    "canada_tool_wms_status = canada_tool.groupby(canada_tool['Shipment Status'])['Ordered QTY'].sum().reset_index()\n",
    "canada_tool_wms_status\n",
    "# 这段已经也是成功了"
   ]
  },
  {
   "cell_type": "markdown",
   "id": "a3192de4",
   "metadata": {},
   "source": [
    "### (╭☞•̀o•́)╭☞ This one is for : Inbound_STO Tab! "
   ]
  },
  {
   "cell_type": "code",
   "execution_count": 36,
   "id": "261d6792",
   "metadata": {
    "scrolled": false
   },
   "outputs": [
    {
     "data": {
      "text/plain": [
       "Index(['Item', 'Catalog', 'Description', 'Receipt_Date', 'Serial_Number',\n",
       "       'Quantity', 'Inventory Status', 'SAP Location', 'LPN', 'Location'],\n",
       "      dtype='object')"
      ]
     },
     "execution_count": 36,
     "metadata": {},
     "output_type": "execute_result"
    }
   ],
   "source": [
    "quality.columns"
   ]
  },
  {
   "cell_type": "code",
   "execution_count": 37,
   "id": "c84bcddd",
   "metadata": {},
   "outputs": [],
   "source": [
    "location = quality['Location'].value_counts()"
   ]
  },
  {
   "cell_type": "code",
   "execution_count": 38,
   "id": "6464dc5c",
   "metadata": {
    "scrolled": false
   },
   "outputs": [
    {
     "data": {
      "text/html": [
       "<div>\n",
       "<style scoped>\n",
       "    .dataframe tbody tr th:only-of-type {\n",
       "        vertical-align: middle;\n",
       "    }\n",
       "\n",
       "    .dataframe tbody tr th {\n",
       "        vertical-align: top;\n",
       "    }\n",
       "\n",
       "    .dataframe thead th {\n",
       "        text-align: right;\n",
       "    }\n",
       "</style>\n",
       "<table border=\"1\" class=\"dataframe\">\n",
       "  <thead>\n",
       "    <tr style=\"text-align: right;\">\n",
       "      <th></th>\n",
       "      <th>location</th>\n",
       "      <th>count</th>\n",
       "    </tr>\n",
       "  </thead>\n",
       "  <tbody>\n",
       "    <tr>\n",
       "      <th>0</th>\n",
       "      <td>PC-LTL</td>\n",
       "      <td>750</td>\n",
       "    </tr>\n",
       "    <tr>\n",
       "      <th>1</th>\n",
       "      <td>O-4</td>\n",
       "      <td>143</td>\n",
       "    </tr>\n",
       "    <tr>\n",
       "      <th>2</th>\n",
       "      <td>O-2</td>\n",
       "      <td>94</td>\n",
       "    </tr>\n",
       "    <tr>\n",
       "      <th>3</th>\n",
       "      <td>9-100-00-01</td>\n",
       "      <td>90</td>\n",
       "    </tr>\n",
       "    <tr>\n",
       "      <th>4</th>\n",
       "      <td>O-1</td>\n",
       "      <td>76</td>\n",
       "    </tr>\n",
       "    <tr>\n",
       "      <th>...</th>\n",
       "      <td>...</td>\n",
       "      <td>...</td>\n",
       "    </tr>\n",
       "    <tr>\n",
       "      <th>9922</th>\n",
       "      <td>14-008-10-01</td>\n",
       "      <td>1</td>\n",
       "    </tr>\n",
       "    <tr>\n",
       "      <th>9923</th>\n",
       "      <td>3-035-50-01</td>\n",
       "      <td>1</td>\n",
       "    </tr>\n",
       "    <tr>\n",
       "      <th>9924</th>\n",
       "      <td>1-042-20-02</td>\n",
       "      <td>1</td>\n",
       "    </tr>\n",
       "    <tr>\n",
       "      <th>9925</th>\n",
       "      <td>4-010-10-01</td>\n",
       "      <td>1</td>\n",
       "    </tr>\n",
       "    <tr>\n",
       "      <th>9926</th>\n",
       "      <td>5-037-10-01</td>\n",
       "      <td>1</td>\n",
       "    </tr>\n",
       "  </tbody>\n",
       "</table>\n",
       "<p>9927 rows × 2 columns</p>\n",
       "</div>"
      ],
      "text/plain": [
       "          location  count\n",
       "0           PC-LTL    750\n",
       "1              O-4    143\n",
       "2              O-2     94\n",
       "3      9-100-00-01     90\n",
       "4              O-1     76\n",
       "...            ...    ...\n",
       "9922  14-008-10-01      1\n",
       "9923   3-035-50-01      1\n",
       "9924   1-042-20-02      1\n",
       "9925   4-010-10-01      1\n",
       "9926   5-037-10-01      1\n",
       "\n",
       "[9927 rows x 2 columns]"
      ]
     },
     "execution_count": 38,
     "metadata": {},
     "output_type": "execute_result"
    }
   ],
   "source": [
    "location = pd.DataFrame(location).reset_index()\n",
    "location.columns = ['location', 'count']\n",
    "location"
   ]
  },
  {
   "cell_type": "code",
   "execution_count": 39,
   "id": "0982a168",
   "metadata": {},
   "outputs": [],
   "source": [
    "import re\n",
    "\n",
    "#this is very import to filted out all the values that starts from the alphabet\n",
    "num_count = [d for d in location['location'] if not re.match(r'^[A-Za-z]', d)]"
   ]
  },
  {
   "cell_type": "raw",
   "id": "dd759ced",
   "metadata": {},
   "source": [
    "#The re module in Python is a built-in module that provides support for regular expressions (regex).\n",
    "#re.search(): Searches a string for a regex pattern and returns the first match.\n",
    "#re.match(): Searches a string for a regex pattern at the beginning of the string and returns the first match.\n",
    "#re.findall(): Searches a string for all occurrences of a regex pattern and returns a list of matches.\n",
    "#re.sub(): Replaces all occurrences of a regex pattern in a string with a replacement string.\n",
    "#re.compile(): Compiles a regex pattern into a regular expression object that can be reused."
   ]
  },
  {
   "cell_type": "code",
   "execution_count": 40,
   "id": "bf22cc56",
   "metadata": {
    "scrolled": false
   },
   "outputs": [
    {
     "name": "stdout",
     "output_type": "stream",
     "text": [
      "\n",
      " the inbound_STO line 24 = 1855\n"
     ]
    }
   ],
   "source": [
    "unique_count = 11727 - len(set(num_count))\n",
    "\n",
    "print(f\"\\n the inbound_STO line 24 = {unique_count}\")"
   ]
  },
  {
   "cell_type": "code",
   "execution_count": 41,
   "id": "8cd53853",
   "metadata": {},
   "outputs": [],
   "source": [
    "line25 = location[location['count'] == 1]"
   ]
  },
  {
   "cell_type": "code",
   "execution_count": 42,
   "id": "17b0eeca",
   "metadata": {},
   "outputs": [
    {
     "data": {
      "text/plain": [
       "1639"
      ]
     },
     "execution_count": 42,
     "metadata": {},
     "output_type": "execute_result"
    }
   ],
   "source": [
    "line25['location'].nunique()"
   ]
  },
  {
   "cell_type": "code",
   "execution_count": 46,
   "id": "32d264ec",
   "metadata": {},
   "outputs": [],
   "source": [
    "line25_2_count = [d for d in line25['location'] if not re.match(r'^[A-Za-z]', d)]"
   ]
  },
  {
   "cell_type": "code",
   "execution_count": 47,
   "id": "efc5aaf9",
   "metadata": {},
   "outputs": [
    {
     "name": "stdout",
     "output_type": "stream",
     "text": [
      "\n",
      " the inbound_STO line 24 = 1636\n",
      "\n"
     ]
    }
   ],
   "source": [
    "line25_num = len(set(line25_2_count))\n",
    "\n",
    "print(f\"\\n the inbound_STO line 24 = {line25_num}\\n\")"
   ]
  },
  {
   "cell_type": "markdown",
   "id": "55a7ddeb",
   "metadata": {
    "collapsed": true
   },
   "source": [
    "line25_2_count"
   ]
  },
  {
   "cell_type": "markdown",
   "id": "7322cb63",
   "metadata": {},
   "source": [
    "## (╭☞•̀o•́)╭☞ Let's put them fucking together!! Nice work!! BOY! "
   ]
  },
  {
   "cell_type": "code",
   "execution_count": 48,
   "id": "b9ef51a2",
   "metadata": {},
   "outputs": [
    {
     "name": "stdout",
     "output_type": "stream",
     "text": [
      "\n",
      "     Line 6: the open in total units is: 2680\n",
      "\n",
      "     Line 7: the open in total units is: 224\n",
      "    Order Number Delay Status\n",
      "0       81763096   *No delay*\n",
      "1       81763099   *No delay*\n",
      "2       81763114   *No delay*\n",
      "3       81763383   *No delay*\n",
      "4       81763384   *No delay*\n",
      "5       81763385   *No delay*\n",
      "6       81763387   *No delay*\n",
      "7       81763386   *No delay*\n",
      "8       81763389   *No delay*\n",
      "9       81763388   *No delay*\n",
      "10      81763391   *No delay*\n",
      "11      81763390   *No delay*\n",
      "12      81763392   *No delay*\n",
      "13      81763393   *No delay*\n",
      "14      81763394   *No delay*\n",
      "15      81763422   *No delay*\n",
      "16      81763451   *No delay*\n",
      "17      81763454   *No delay*\n",
      "18      81763565   *No delay*\n",
      "19      81763669   *No delay*\n",
      "20      81764055   *No delay*\n",
      "21      81764104   *No delay*\n",
      "\n",
      "    What is the dealy status ['*No delay*']\n",
      "\n",
      "    Line 11: the open in total units is: 254 \n",
      "\n"
     ]
    }
   ],
   "source": [
    "print(f\"\\n     Line 6: the open in total units is: {open_total}\")\n",
    "\n",
    "print(f\"\\n     Line 7: the open in total units is: {int(tool_total_orderintake_qty + ship_total_orderintake_qty)}\")\n",
    "\n",
    "print(output)    \n",
    "\n",
    "print(\"\\n    What is the dealy status\",output['Delay Status'].unique())\n",
    "\n",
    "print(f\"\\n    Line 11: the open in total units is: {overduewms_num} \\n\")\n"
   ]
  },
  {
   "cell_type": "code",
   "execution_count": 49,
   "id": "b8e4e773",
   "metadata": {
    "scrolled": true
   },
   "outputs": [
    {
     "data": {
      "text/html": [
       "<div>\n",
       "<style scoped>\n",
       "    .dataframe tbody tr th:only-of-type {\n",
       "        vertical-align: middle;\n",
       "    }\n",
       "\n",
       "    .dataframe tbody tr th {\n",
       "        vertical-align: top;\n",
       "    }\n",
       "\n",
       "    .dataframe thead th {\n",
       "        text-align: right;\n",
       "    }\n",
       "</style>\n",
       "<table border=\"1\" class=\"dataframe\">\n",
       "  <thead>\n",
       "    <tr style=\"text-align: right;\">\n",
       "      <th></th>\n",
       "      <th>Shipment Status</th>\n",
       "      <th>Ordered QTY</th>\n",
       "    </tr>\n",
       "  </thead>\n",
       "  <tbody>\n",
       "    <tr>\n",
       "      <th>0</th>\n",
       "      <td>Blank</td>\n",
       "      <td>1009.0</td>\n",
       "    </tr>\n",
       "    <tr>\n",
       "      <th>1</th>\n",
       "      <td>In-Process</td>\n",
       "      <td>1107.0</td>\n",
       "    </tr>\n",
       "    <tr>\n",
       "      <th>2</th>\n",
       "      <td>Ready</td>\n",
       "      <td>291.0</td>\n",
       "    </tr>\n",
       "    <tr>\n",
       "      <th>3</th>\n",
       "      <td>Staged</td>\n",
       "      <td>273.0</td>\n",
       "    </tr>\n",
       "  </tbody>\n",
       "</table>\n",
       "</div>"
      ],
      "text/plain": [
       "  Shipment Status  Ordered QTY\n",
       "0           Blank       1009.0\n",
       "1      In-Process       1107.0\n",
       "2           Ready        291.0\n",
       "3          Staged        273.0"
      ]
     },
     "execution_count": 49,
     "metadata": {},
     "output_type": "execute_result"
    }
   ],
   "source": [
    "wms_status"
   ]
  },
  {
   "cell_type": "code",
   "execution_count": 50,
   "id": "205371d5",
   "metadata": {},
   "outputs": [
    {
     "name": "stdout",
     "output_type": "stream",
     "text": [
      "\n",
      "    Line 23: the open in total units is: 1213 \n",
      "\n",
      "\n",
      "    Line 26 Shipped Actual is: 204 \n",
      "\n"
     ]
    }
   ],
   "source": [
    "print(f\"\\n    Line 23: the open in total units is: {line23_qty } \\n\")\n",
    "\n",
    "print(f\"\\n    Line 26 Shipped Actual is: {int(line26['Shipped Qty'].sum())} \\n\")"
   ]
  },
  {
   "cell_type": "markdown",
   "id": "93b30c6d",
   "metadata": {},
   "source": [
    "### Canada Tab"
   ]
  },
  {
   "cell_type": "code",
   "execution_count": 51,
   "id": "337d42fa",
   "metadata": {},
   "outputs": [
    {
     "name": "stdout",
     "output_type": "stream",
     "text": [
      "\n",
      "   The open in total units is: 71\n",
      "\n",
      "\n",
      "   (╭☞•̀o•́)╭☞ Canada line 8: Overdue is:  0\n",
      "\n"
     ]
    }
   ],
   "source": [
    "print(f\"\\n   The open in total units is: {int(ca_tool_orderintake_qty + ca_ship_intak_qty)}\\n\")\n",
    "\n",
    "print(\"\\n   (╭☞•̀o•́)╭☞ Canada line 8: Overdue is:  0\\n\")"
   ]
  },
  {
   "cell_type": "code",
   "execution_count": 52,
   "id": "d806f1d5",
   "metadata": {},
   "outputs": [
    {
     "data": {
      "text/html": [
       "<div>\n",
       "<style scoped>\n",
       "    .dataframe tbody tr th:only-of-type {\n",
       "        vertical-align: middle;\n",
       "    }\n",
       "\n",
       "    .dataframe tbody tr th {\n",
       "        vertical-align: top;\n",
       "    }\n",
       "\n",
       "    .dataframe thead th {\n",
       "        text-align: right;\n",
       "    }\n",
       "</style>\n",
       "<table border=\"1\" class=\"dataframe\">\n",
       "  <thead>\n",
       "    <tr style=\"text-align: right;\">\n",
       "      <th></th>\n",
       "      <th>Shipment Status</th>\n",
       "      <th>Ordered QTY</th>\n",
       "    </tr>\n",
       "  </thead>\n",
       "  <tbody>\n",
       "    <tr>\n",
       "      <th>0</th>\n",
       "      <td>Blank</td>\n",
       "      <td>98.0</td>\n",
       "    </tr>\n",
       "    <tr>\n",
       "      <th>1</th>\n",
       "      <td>In-Process</td>\n",
       "      <td>99.0</td>\n",
       "    </tr>\n",
       "    <tr>\n",
       "      <th>2</th>\n",
       "      <td>Ready</td>\n",
       "      <td>291.0</td>\n",
       "    </tr>\n",
       "    <tr>\n",
       "      <th>3</th>\n",
       "      <td>Staged</td>\n",
       "      <td>43.0</td>\n",
       "    </tr>\n",
       "  </tbody>\n",
       "</table>\n",
       "</div>"
      ],
      "text/plain": [
       "  Shipment Status  Ordered QTY\n",
       "0           Blank         98.0\n",
       "1      In-Process         99.0\n",
       "2           Ready        291.0\n",
       "3          Staged         43.0"
      ]
     },
     "execution_count": 52,
     "metadata": {},
     "output_type": "execute_result"
    }
   ],
   "source": [
    "canada_tool_wms_status"
   ]
  },
  {
   "cell_type": "markdown",
   "id": "ceb17f4d",
   "metadata": {},
   "source": [
    "## Inbound_STO Tab"
   ]
  },
  {
   "cell_type": "code",
   "execution_count": 53,
   "id": "01c51f4f",
   "metadata": {},
   "outputs": [
    {
     "name": "stdout",
     "output_type": "stream",
     "text": [
      "\n",
      " the inbound_STO line 24 = 1855\n",
      "\n",
      "\n",
      " the inbound_STO line 24 = 1636\n",
      "\n"
     ]
    }
   ],
   "source": [
    "print(f\"\\n the inbound_STO line 24 = {unique_count}\\n\")\n",
    "\n",
    "print(f\"\\n the inbound_STO line 24 = {line25_num}\\n\")"
   ]
  }
 ],
 "metadata": {
  "kernelspec": {
   "display_name": "Python 3 (ipykernel)",
   "language": "python",
   "name": "python3"
  },
  "language_info": {
   "codemirror_mode": {
    "name": "ipython",
    "version": 3
   },
   "file_extension": ".py",
   "mimetype": "text/x-python",
   "name": "python",
   "nbconvert_exporter": "python",
   "pygments_lexer": "ipython3",
   "version": "3.9.12"
  }
 },
 "nbformat": 4,
 "nbformat_minor": 5
}
